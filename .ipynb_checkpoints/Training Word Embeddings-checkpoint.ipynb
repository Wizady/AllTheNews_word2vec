{
 "cells": [
  {
   "cell_type": "markdown",
   "metadata": {},
   "source": [
    "# All the News \n",
    "## Data Analysis for Political Data Science\n",
    "by Nico Hertel\n",
    "\n",
    "Data is obtained from https://www.kaggle.com/snapcrack/all-the-news"
   ]
  },
  {
   "cell_type": "markdown",
   "metadata": {},
   "source": [
    "## Training word embeddings\n",
    "Preparing the texts for training"
   ]
  },
  {
   "cell_type": "code",
   "execution_count": 103,
   "metadata": {
    "collapsed": false
   },
   "outputs": [],
   "source": [
    "import pandas as pd\n",
    "import matplotlib.pyplot as plt\n",
    "import seaborn as sns\n",
    "import time\n",
    "import numpy as np\n",
    "import gensim\n",
    "import pickle\n",
    "from nltk import word_tokenize\n",
    "%matplotlib inline"
   ]
  },
  {
   "cell_type": "code",
   "execution_count": 77,
   "metadata": {
    "collapsed": false
   },
   "outputs": [
    {
     "name": "stdout",
     "output_type": "stream",
     "text": [
      "<class 'pandas.core.frame.DataFrame'>\n",
      "Int64Index: 135142 entries, 0 to 42570\n",
      "Data columns (total 10 columns):\n",
      "Unnamed: 0     135142 non-null int64\n",
      "id             135142 non-null int64\n",
      "title          135140 non-null object\n",
      "publication    135142 non-null object\n",
      "author         126892 non-null object\n",
      "date           135112 non-null object\n",
      "year           135112 non-null float64\n",
      "month          135112 non-null float64\n",
      "url            85142 non-null object\n",
      "content        135142 non-null object\n",
      "dtypes: float64(2), int64(2), object(6)\n",
      "memory usage: 11.3+ MB\n"
     ]
    }
   ],
   "source": [
    "# Reading the Data\n",
    "articles1 = pd.read_csv('articles1.csv')\n",
    "articles2 = pd.read_csv('articles2.csv')\n",
    "articles3 = pd.read_csv('articles3.csv')\n",
    "articles = pd.concat([articles1, articles3, articles3])\n",
    "articles.info()\n",
    "del(articles1, articles2, articles3)"
   ]
  },
  {
   "cell_type": "code",
   "execution_count": 94,
   "metadata": {
    "collapsed": false
   },
   "outputs": [],
   "source": [
    "# Dict for storing the texts:\n",
    "texts = dict()\n",
    "papers = list(articles['publication'].unique())"
   ]
  },
  {
   "cell_type": "code",
   "execution_count": 95,
   "metadata": {
    "collapsed": false
   },
   "outputs": [
    {
     "data": {
      "text/plain": [
       "['New York Times',\n",
       " 'Breitbart',\n",
       " 'CNN',\n",
       " 'NPR',\n",
       " 'Reuters',\n",
       " 'Vox',\n",
       " 'Washington Post']"
      ]
     },
     "execution_count": 95,
     "metadata": {},
     "output_type": "execute_result"
    }
   ],
   "source": [
    "papers.remove('Business Insider')\n",
    "papers.remove('Guardian')\n",
    "papers.remove('Atlantic')\n",
    "papers"
   ]
  },
  {
   "cell_type": "code",
   "execution_count": 109,
   "metadata": {
    "collapsed": true
   },
   "outputs": [],
   "source": [
    "# Extract text from articles\n",
    "for paper in papers:\n",
    "    text = []\n",
    "    content = articles[articles['publication'] == paper]['content'].values\n",
    "    for article in content:\n",
    "        token = word_tokenize(article)\n",
    "        token = [word.lower() for word in token if word.isalpha()]\n",
    "        text.append(token)\n",
    "    texts[paper] = text"
   ]
  },
  {
   "cell_type": "code",
   "execution_count": 112,
   "metadata": {
    "collapsed": false
   },
   "outputs": [],
   "source": [
    "savename = time.strftime(\"Models/%d%m%y_%H%M%S_\")\n",
    "pickle.dump(model, open(savename + 'texts.pickle', 'wb'))"
   ]
  },
  {
   "cell_type": "markdown",
   "metadata": {},
   "source": [
    "## Creating the Models"
   ]
  },
  {
   "cell_type": "code",
   "execution_count": 126,
   "metadata": {
    "collapsed": true
   },
   "outputs": [],
   "source": [
    "models = dict()\n",
    "savename = time.strftime(\"Models/%d%m%y_%H%M%S_\")"
   ]
  },
  {
   "cell_type": "code",
   "execution_count": 127,
   "metadata": {
    "collapsed": false
   },
   "outputs": [
    {
     "name": "stdout",
     "output_type": "stream",
     "text": [
      "Creating model for New York Times\n",
      "Finished creating model, moving to training\n",
      "Finished training model on New York Times\n",
      "Creating model for Breitbart\n",
      "Finished creating model, moving to training\n",
      "Finished training model on Breitbart\n",
      "Creating model for CNN\n",
      "Finished creating model, moving to training\n",
      "Finished training model on CNN\n",
      "Creating model for NPR\n",
      "Finished creating model, moving to training\n",
      "Finished training model on NPR\n",
      "Creating model for Reuters\n",
      "Finished creating model, moving to training\n",
      "Finished training model on Reuters\n",
      "Creating model for Vox\n",
      "Finished creating model, moving to training\n",
      "Finished training model on Vox\n",
      "Creating model for Washington Post\n",
      "Finished creating model, moving to training\n",
      "Finished training model on Washington Post\n",
      "Finished Training\n"
     ]
    }
   ],
   "source": [
    "for paper in papers:\n",
    "    print('Creating model for %s' % paper)\n",
    "    model = gensim.models.Word2Vec(texts[paper], size=150, window=10, min_count=5)\n",
    "    print('Finished creating model, moving to training')\n",
    "    model.train(token, total_examples=len(token), epochs=10)\n",
    "    print('Finished training model on %s' % paper)\n",
    "    models[paper] = model\n",
    "    model.wv.save_word2vec_format(savename + paper + '.txt', binary=False)\n",
    "print('Finished Training')"
   ]
  },
  {
   "cell_type": "markdown",
   "metadata": {},
   "source": [
    "## Playing around with the models\n",
    "Having seven trained word2vec models, it't time to start playing around and exploring the passabilities. Lets start by looking how the current president of the United States, Donald Trup, is embedded in the different news organisations"
   ]
  },
  {
   "cell_type": "code",
   "execution_count": 185,
   "metadata": {
    "collapsed": false
   },
   "outputs": [],
   "source": [
    "# Loading the Models\n",
    "models = dict()\n",
    "papers = ['New York Times',\n",
    "     'Breitbart',\n",
    "     'CNN',\n",
    "     'NPR',\n",
    "     'Reuters',\n",
    "     'Vox',\n",
    "     'Washington Post']\n",
    "savename = 'Models/141118_121502_'\n",
    "for paper in papers:\n",
    "    models[paper] = gensim.models.KeyedVectors.load_word2vec_format(savename + paper + '.txt',\n",
    "                                                                    binary=False)"
   ]
  },
  {
   "cell_type": "code",
   "execution_count": 154,
   "metadata": {
    "collapsed": false
   },
   "outputs": [],
   "source": [
    "def extract_words(most_similar):\n",
    "    '''\n",
    "    Extracts only the words from the most similar function of gensim\n",
    "\n",
    "    Parameters\n",
    "    ----------\n",
    "    most_similar : list\n",
    "        Sequence of (word, similarity) (Returned by gensim.wv.most_similar)\n",
    "\n",
    "    Returns\n",
    "    -------\n",
    "    words : list\n",
    "        List of the 'word's in most_similar\n",
    "    '''\n",
    "    words = []\n",
    "    for entry in most_similar:\n",
    "        words.append(entry[0])\n",
    "    return words"
   ]
  },
  {
   "cell_type": "code",
   "execution_count": 192,
   "metadata": {
    "collapsed": true
   },
   "outputs": [],
   "source": [
    "def show_context(word, models, topn=10):\n",
    "    '''\n",
    "    Creates a DataFrame of the context of the passed word\n",
    "\n",
    "    Parameters\n",
    "    ----------\n",
    "    word : str\n",
    "        The word to be analyzed\n",
    "    models : dict\n",
    "        A dictionary containing trained Word2Vec models\n",
    "    topn : int (default 10)\n",
    "        How many similar words should be returned\n",
    "\n",
    "    Returns\n",
    "    -------\n",
    "    context : DataFrame\n",
    "        A collection of the closesed words in a DataFrame\n",
    "    '''\n",
    "    topn = int(topn)\n",
    "    context = pd.DataFrame(columns=list(models.keys()))\n",
    "    for paper in models:\n",
    "        if word not in models[paper].vocab:\n",
    "            print('Error! Word %s not in vocabulary of %s' % (word, paper))\n",
    "        else:\n",
    "            words = extract_words(models[paper].most_similar(positive=word, topn=n))\n",
    "            context[paper] = words\n",
    "    return context"
   ]
  },
  {
   "cell_type": "code",
   "execution_count": 193,
   "metadata": {
    "collapsed": false
   },
   "outputs": [
    {
     "data": {
      "text/html": [
       "<div>\n",
       "<style>\n",
       "    .dataframe thead tr:only-child th {\n",
       "        text-align: right;\n",
       "    }\n",
       "\n",
       "    .dataframe thead th {\n",
       "        text-align: left;\n",
       "    }\n",
       "\n",
       "    .dataframe tbody tr th {\n",
       "        vertical-align: top;\n",
       "    }\n",
       "</style>\n",
       "<table border=\"1\" class=\"dataframe\">\n",
       "  <thead>\n",
       "    <tr style=\"text-align: right;\">\n",
       "      <th></th>\n",
       "      <th>New York Times</th>\n",
       "      <th>Breitbart</th>\n",
       "      <th>CNN</th>\n",
       "      <th>NPR</th>\n",
       "      <th>Reuters</th>\n",
       "      <th>Vox</th>\n",
       "      <th>Washington Post</th>\n",
       "    </tr>\n",
       "  </thead>\n",
       "  <tbody>\n",
       "    <tr>\n",
       "      <th>0</th>\n",
       "      <td>melania</td>\n",
       "      <td>tower</td>\n",
       "      <td>melania</td>\n",
       "      <td>melania</td>\n",
       "      <td>alassane</td>\n",
       "      <td>tower</td>\n",
       "      <td>melania</td>\n",
       "    </tr>\n",
       "    <tr>\n",
       "      <th>1</th>\n",
       "      <td>presumptive</td>\n",
       "      <td>ivanka</td>\n",
       "      <td>ebell</td>\n",
       "      <td>colluding</td>\n",
       "      <td>merk</td>\n",
       "      <td>melania</td>\n",
       "      <td>tower</td>\n",
       "    </tr>\n",
       "    <tr>\n",
       "      <th>2</th>\n",
       "      <td>presidency</td>\n",
       "      <td>melania</td>\n",
       "      <td>unfit</td>\n",
       "      <td>thundered</td>\n",
       "      <td>petro</td>\n",
       "      <td>cruz</td>\n",
       "      <td>dionne</td>\n",
       "    </tr>\n",
       "    <tr>\n",
       "      <th>3</th>\n",
       "      <td>pence</td>\n",
       "      <td>steaks</td>\n",
       "      <td>unqualified</td>\n",
       "      <td>barasso</td>\n",
       "      <td>joko</td>\n",
       "      <td>ivanka</td>\n",
       "      <td>cruz</td>\n",
       "    </tr>\n",
       "    <tr>\n",
       "      <th>4</th>\n",
       "      <td>ivanka</td>\n",
       "      <td>winery</td>\n",
       "      <td>surrogates</td>\n",
       "      <td>ivana</td>\n",
       "      <td>barack</td>\n",
       "      <td>birtherism</td>\n",
       "      <td>presumptive</td>\n",
       "    </tr>\n",
       "    <tr>\n",
       "      <th>5</th>\n",
       "      <td>turnberry</td>\n",
       "      <td>supporters</td>\n",
       "      <td>crooked</td>\n",
       "      <td>steaks</td>\n",
       "      <td>maithripala</td>\n",
       "      <td>alterman</td>\n",
       "      <td>speakerryan</td>\n",
       "    </tr>\n",
       "    <tr>\n",
       "      <th>6</th>\n",
       "      <td>cruz</td>\n",
       "      <td>hopeful</td>\n",
       "      <td>tweeting</td>\n",
       "      <td>birtherism</td>\n",
       "      <td>bashar</td>\n",
       "      <td>nieto</td>\n",
       "      <td>ivanka</td>\n",
       "    </tr>\n",
       "    <tr>\n",
       "      <th>7</th>\n",
       "      <td>tower</td>\n",
       "      <td>egocentric</td>\n",
       "      <td>teleprompters</td>\n",
       "      <td>phony</td>\n",
       "      <td>muhammadu</td>\n",
       "      <td>musket</td>\n",
       "      <td>dana</td>\n",
       "    </tr>\n",
       "    <tr>\n",
       "      <th>8</th>\n",
       "      <td>supporter</td>\n",
       "      <td>cruz</td>\n",
       "      <td>ivanka</td>\n",
       "      <td>ivanka</td>\n",
       "      <td>tayyip</td>\n",
       "      <td>presumptive</td>\n",
       "      <td>stahl</td>\n",
       "    </tr>\n",
       "    <tr>\n",
       "      <th>9</th>\n",
       "      <td>ivana</td>\n",
       "      <td>romney</td>\n",
       "      <td>loyalty</td>\n",
       "      <td>presidency</td>\n",
       "      <td>nicolas</td>\n",
       "      <td>supporters</td>\n",
       "      <td>riffed</td>\n",
       "    </tr>\n",
       "  </tbody>\n",
       "</table>\n",
       "</div>"
      ],
      "text/plain": [
       "  New York Times   Breitbart            CNN         NPR      Reuters  \\\n",
       "0        melania       tower        melania     melania     alassane   \n",
       "1    presumptive      ivanka          ebell   colluding         merk   \n",
       "2     presidency     melania          unfit   thundered        petro   \n",
       "3          pence      steaks    unqualified     barasso         joko   \n",
       "4         ivanka      winery     surrogates       ivana       barack   \n",
       "5      turnberry  supporters        crooked      steaks  maithripala   \n",
       "6           cruz     hopeful       tweeting  birtherism       bashar   \n",
       "7          tower  egocentric  teleprompters       phony    muhammadu   \n",
       "8      supporter        cruz         ivanka      ivanka       tayyip   \n",
       "9          ivana      romney        loyalty  presidency      nicolas   \n",
       "\n",
       "           Vox Washington Post  \n",
       "0        tower         melania  \n",
       "1      melania           tower  \n",
       "2         cruz          dionne  \n",
       "3       ivanka            cruz  \n",
       "4   birtherism     presumptive  \n",
       "5     alterman     speakerryan  \n",
       "6        nieto          ivanka  \n",
       "7       musket            dana  \n",
       "8  presumptive           stahl  \n",
       "9   supporters          riffed  "
      ]
     },
     "execution_count": 193,
     "metadata": {},
     "output_type": "execute_result"
    }
   ],
   "source": [
    "# Looking for context of 'donald'\n",
    "show_context('donald', models)"
   ]
  },
  {
   "cell_type": "code",
   "execution_count": 194,
   "metadata": {
    "collapsed": false
   },
   "outputs": [
    {
     "data": {
      "text/html": [
       "<div>\n",
       "<style>\n",
       "    .dataframe thead tr:only-child th {\n",
       "        text-align: right;\n",
       "    }\n",
       "\n",
       "    .dataframe thead th {\n",
       "        text-align: left;\n",
       "    }\n",
       "\n",
       "    .dataframe tbody tr th {\n",
       "        vertical-align: top;\n",
       "    }\n",
       "</style>\n",
       "<table border=\"1\" class=\"dataframe\">\n",
       "  <thead>\n",
       "    <tr style=\"text-align: right;\">\n",
       "      <th></th>\n",
       "      <th>New York Times</th>\n",
       "      <th>Breitbart</th>\n",
       "      <th>CNN</th>\n",
       "      <th>NPR</th>\n",
       "      <th>Reuters</th>\n",
       "      <th>Vox</th>\n",
       "      <th>Washington Post</th>\n",
       "    </tr>\n",
       "  </thead>\n",
       "  <tbody>\n",
       "    <tr>\n",
       "      <th>0</th>\n",
       "      <td>candidacy</td>\n",
       "      <td>cruz</td>\n",
       "      <td>rhetoric</td>\n",
       "      <td>rubio</td>\n",
       "      <td>obama</td>\n",
       "      <td>cruz</td>\n",
       "      <td>candidacy</td>\n",
       "    </tr>\n",
       "    <tr>\n",
       "      <th>1</th>\n",
       "      <td>pence</td>\n",
       "      <td>kasich</td>\n",
       "      <td>pence</td>\n",
       "      <td>obama</td>\n",
       "      <td>sanders</td>\n",
       "      <td>rubio</td>\n",
       "      <td>rubio</td>\n",
       "    </tr>\n",
       "    <tr>\n",
       "      <th>2</th>\n",
       "      <td>sanders</td>\n",
       "      <td>candidacy</td>\n",
       "      <td>kaine</td>\n",
       "      <td>conway</td>\n",
       "      <td>clinton</td>\n",
       "      <td>candidacy</td>\n",
       "      <td>candidate</td>\n",
       "    </tr>\n",
       "    <tr>\n",
       "      <th>3</th>\n",
       "      <td>nominee</td>\n",
       "      <td>romney</td>\n",
       "      <td>cruz</td>\n",
       "      <td>spicer</td>\n",
       "      <td>rubio</td>\n",
       "      <td>obama</td>\n",
       "      <td>priebus</td>\n",
       "    </tr>\n",
       "    <tr>\n",
       "      <th>4</th>\n",
       "      <td>rumsfeld</td>\n",
       "      <td>rubio</td>\n",
       "      <td>obama</td>\n",
       "      <td>pence</td>\n",
       "      <td>cruz</td>\n",
       "      <td>he</td>\n",
       "      <td>romney</td>\n",
       "    </tr>\n",
       "    <tr>\n",
       "      <th>5</th>\n",
       "      <td>obama</td>\n",
       "      <td>he</td>\n",
       "      <td>conway</td>\n",
       "      <td>sanders</td>\n",
       "      <td>rhetoric</td>\n",
       "      <td>bannon</td>\n",
       "      <td>sanders</td>\n",
       "    </tr>\n",
       "    <tr>\n",
       "      <th>6</th>\n",
       "      <td>clinton</td>\n",
       "      <td>gop</td>\n",
       "      <td>kasich</td>\n",
       "      <td>tusk</td>\n",
       "      <td>nominee</td>\n",
       "      <td>sanders</td>\n",
       "      <td>he</td>\n",
       "    </tr>\n",
       "    <tr>\n",
       "      <th>7</th>\n",
       "      <td>romney</td>\n",
       "      <td>realdonaldtrump</td>\n",
       "      <td>spicer</td>\n",
       "      <td>carson</td>\n",
       "      <td>candidate</td>\n",
       "      <td>rhetoric</td>\n",
       "      <td>rhetoric</td>\n",
       "    </tr>\n",
       "    <tr>\n",
       "      <th>8</th>\n",
       "      <td>bannon</td>\n",
       "      <td>fiorina</td>\n",
       "      <td>rubio</td>\n",
       "      <td>clinton</td>\n",
       "      <td>nomination</td>\n",
       "      <td>santorum</td>\n",
       "      <td>conway</td>\n",
       "    </tr>\n",
       "    <tr>\n",
       "      <th>9</th>\n",
       "      <td>candidate</td>\n",
       "      <td>sanders</td>\n",
       "      <td>candidacy</td>\n",
       "      <td>cruz</td>\n",
       "      <td>conway</td>\n",
       "      <td>presidency</td>\n",
       "      <td>cruz</td>\n",
       "    </tr>\n",
       "  </tbody>\n",
       "</table>\n",
       "</div>"
      ],
      "text/plain": [
       "  New York Times        Breitbart        CNN      NPR     Reuters         Vox  \\\n",
       "0      candidacy             cruz   rhetoric    rubio       obama        cruz   \n",
       "1          pence           kasich      pence    obama     sanders       rubio   \n",
       "2        sanders        candidacy      kaine   conway     clinton   candidacy   \n",
       "3        nominee           romney       cruz   spicer       rubio       obama   \n",
       "4       rumsfeld            rubio      obama    pence        cruz          he   \n",
       "5          obama               he     conway  sanders    rhetoric      bannon   \n",
       "6        clinton              gop     kasich     tusk     nominee     sanders   \n",
       "7         romney  realdonaldtrump     spicer   carson   candidate    rhetoric   \n",
       "8         bannon          fiorina      rubio  clinton  nomination    santorum   \n",
       "9      candidate          sanders  candidacy     cruz      conway  presidency   \n",
       "\n",
       "  Washington Post  \n",
       "0       candidacy  \n",
       "1           rubio  \n",
       "2       candidate  \n",
       "3         priebus  \n",
       "4          romney  \n",
       "5         sanders  \n",
       "6              he  \n",
       "7        rhetoric  \n",
       "8          conway  \n",
       "9            cruz  "
      ]
     },
     "execution_count": 194,
     "metadata": {},
     "output_type": "execute_result"
    }
   ],
   "source": [
    "# Looking for context of 'trump'\n",
    "show_context('trump', models)"
   ]
  },
  {
   "cell_type": "code",
   "execution_count": 195,
   "metadata": {
    "collapsed": false
   },
   "outputs": [
    {
     "data": {
      "text/html": [
       "<div>\n",
       "<style>\n",
       "    .dataframe thead tr:only-child th {\n",
       "        text-align: right;\n",
       "    }\n",
       "\n",
       "    .dataframe thead th {\n",
       "        text-align: left;\n",
       "    }\n",
       "\n",
       "    .dataframe tbody tr th {\n",
       "        vertical-align: top;\n",
       "    }\n",
       "</style>\n",
       "<table border=\"1\" class=\"dataframe\">\n",
       "  <thead>\n",
       "    <tr style=\"text-align: right;\">\n",
       "      <th></th>\n",
       "      <th>New York Times</th>\n",
       "      <th>Breitbart</th>\n",
       "      <th>CNN</th>\n",
       "      <th>NPR</th>\n",
       "      <th>Reuters</th>\n",
       "      <th>Vox</th>\n",
       "      <th>Washington Post</th>\n",
       "    </tr>\n",
       "  </thead>\n",
       "  <tbody>\n",
       "    <tr>\n",
       "      <th>0</th>\n",
       "      <td>elections</td>\n",
       "      <td>elections</td>\n",
       "      <td>elections</td>\n",
       "      <td>elections</td>\n",
       "      <td>elections</td>\n",
       "      <td>elections</td>\n",
       "      <td>elections</td>\n",
       "    </tr>\n",
       "    <tr>\n",
       "      <th>1</th>\n",
       "      <td>race</td>\n",
       "      <td>primary</td>\n",
       "      <td>electorate</td>\n",
       "      <td>primaries</td>\n",
       "      <td>race</td>\n",
       "      <td>primaries</td>\n",
       "      <td>race</td>\n",
       "    </tr>\n",
       "    <tr>\n",
       "      <th>2</th>\n",
       "      <td>debates</td>\n",
       "      <td>primaries</td>\n",
       "      <td>candidate</td>\n",
       "      <td>campaign</td>\n",
       "      <td>candidate</td>\n",
       "      <td>primary</td>\n",
       "      <td>primary</td>\n",
       "    </tr>\n",
       "    <tr>\n",
       "      <th>3</th>\n",
       "      <td>primaries</td>\n",
       "      <td>race</td>\n",
       "      <td>debates</td>\n",
       "      <td>candidate</td>\n",
       "      <td>vote</td>\n",
       "      <td>victory</td>\n",
       "      <td>contest</td>\n",
       "    </tr>\n",
       "    <tr>\n",
       "      <th>4</th>\n",
       "      <td>primary</td>\n",
       "      <td>contest</td>\n",
       "      <td>primaries</td>\n",
       "      <td>primary</td>\n",
       "      <td>primaries</td>\n",
       "      <td>electorate</td>\n",
       "      <td>primaries</td>\n",
       "    </tr>\n",
       "    <tr>\n",
       "      <th>5</th>\n",
       "      <td>polls</td>\n",
       "      <td>electoral</td>\n",
       "      <td>primary</td>\n",
       "      <td>voter</td>\n",
       "      <td>presidency</td>\n",
       "      <td>candidate</td>\n",
       "      <td>electoral</td>\n",
       "    </tr>\n",
       "    <tr>\n",
       "      <th>6</th>\n",
       "      <td>vote</td>\n",
       "      <td>victory</td>\n",
       "      <td>polls</td>\n",
       "      <td>race</td>\n",
       "      <td>referendum</td>\n",
       "      <td>caucuses</td>\n",
       "      <td>electorate</td>\n",
       "    </tr>\n",
       "    <tr>\n",
       "      <th>7</th>\n",
       "      <td>candidate</td>\n",
       "      <td>landslide</td>\n",
       "      <td>outcome</td>\n",
       "      <td>caucuses</td>\n",
       "      <td>inauguration</td>\n",
       "      <td>presidency</td>\n",
       "      <td>candidate</td>\n",
       "    </tr>\n",
       "    <tr>\n",
       "      <th>8</th>\n",
       "      <td>conventions</td>\n",
       "      <td>candidate</td>\n",
       "      <td>vote</td>\n",
       "      <td>referendum</td>\n",
       "      <td>ballot</td>\n",
       "      <td>polling</td>\n",
       "      <td>nomination</td>\n",
       "    </tr>\n",
       "    <tr>\n",
       "      <th>9</th>\n",
       "      <td>campaign</td>\n",
       "      <td>debates</td>\n",
       "      <td>race</td>\n",
       "      <td>vote</td>\n",
       "      <td>electoral</td>\n",
       "      <td>polls</td>\n",
       "      <td>caucuses</td>\n",
       "    </tr>\n",
       "  </tbody>\n",
       "</table>\n",
       "</div>"
      ],
      "text/plain": [
       "  New York Times  Breitbart         CNN         NPR       Reuters         Vox  \\\n",
       "0      elections  elections   elections   elections     elections   elections   \n",
       "1           race    primary  electorate   primaries          race   primaries   \n",
       "2        debates  primaries   candidate    campaign     candidate     primary   \n",
       "3      primaries       race     debates   candidate          vote     victory   \n",
       "4        primary    contest   primaries     primary     primaries  electorate   \n",
       "5          polls  electoral     primary       voter    presidency   candidate   \n",
       "6           vote    victory       polls        race    referendum    caucuses   \n",
       "7      candidate  landslide     outcome    caucuses  inauguration  presidency   \n",
       "8    conventions  candidate        vote  referendum        ballot     polling   \n",
       "9       campaign    debates        race        vote     electoral       polls   \n",
       "\n",
       "  Washington Post  \n",
       "0       elections  \n",
       "1            race  \n",
       "2         primary  \n",
       "3         contest  \n",
       "4       primaries  \n",
       "5       electoral  \n",
       "6      electorate  \n",
       "7       candidate  \n",
       "8      nomination  \n",
       "9        caucuses  "
      ]
     },
     "execution_count": 195,
     "metadata": {},
     "output_type": "execute_result"
    }
   ],
   "source": [
    "# Looking for context of 'election'\n",
    "show_context('election', models)"
   ]
  },
  {
   "cell_type": "code",
   "execution_count": null,
   "metadata": {
    "collapsed": false
   },
   "outputs": [],
   "source": []
  },
  {
   "cell_type": "code",
   "execution_count": null,
   "metadata": {
    "collapsed": false
   },
   "outputs": [],
   "source": []
  },
  {
   "cell_type": "code",
   "execution_count": null,
   "metadata": {
    "collapsed": false
   },
   "outputs": [],
   "source": []
  },
  {
   "cell_type": "code",
   "execution_count": null,
   "metadata": {
    "collapsed": true
   },
   "outputs": [],
   "source": []
  },
  {
   "cell_type": "code",
   "execution_count": null,
   "metadata": {
    "collapsed": false
   },
   "outputs": [],
   "source": []
  },
  {
   "cell_type": "code",
   "execution_count": null,
   "metadata": {
    "collapsed": false
   },
   "outputs": [],
   "source": []
  },
  {
   "cell_type": "code",
   "execution_count": null,
   "metadata": {
    "collapsed": true
   },
   "outputs": [],
   "source": []
  },
  {
   "cell_type": "code",
   "execution_count": null,
   "metadata": {
    "collapsed": true
   },
   "outputs": [],
   "source": []
  },
  {
   "cell_type": "code",
   "execution_count": null,
   "metadata": {
    "collapsed": false
   },
   "outputs": [],
   "source": []
  },
  {
   "cell_type": "code",
   "execution_count": null,
   "metadata": {
    "collapsed": true
   },
   "outputs": [],
   "source": []
  },
  {
   "cell_type": "code",
   "execution_count": null,
   "metadata": {
    "collapsed": false
   },
   "outputs": [],
   "source": []
  },
  {
   "cell_type": "code",
   "execution_count": null,
   "metadata": {
    "collapsed": false
   },
   "outputs": [],
   "source": []
  },
  {
   "cell_type": "code",
   "execution_count": null,
   "metadata": {
    "collapsed": false
   },
   "outputs": [],
   "source": []
  },
  {
   "cell_type": "code",
   "execution_count": null,
   "metadata": {
    "collapsed": false
   },
   "outputs": [],
   "source": []
  },
  {
   "cell_type": "code",
   "execution_count": null,
   "metadata": {
    "collapsed": false
   },
   "outputs": [],
   "source": []
  }
 ],
 "metadata": {
  "kernelspec": {
   "display_name": "Python 3",
   "language": "python",
   "name": "python3"
  },
  "language_info": {
   "codemirror_mode": {
    "name": "ipython",
    "version": 3
   },
   "file_extension": ".py",
   "mimetype": "text/x-python",
   "name": "python",
   "nbconvert_exporter": "python",
   "pygments_lexer": "ipython3",
   "version": "3.6.0"
  }
 },
 "nbformat": 4,
 "nbformat_minor": 2
}
